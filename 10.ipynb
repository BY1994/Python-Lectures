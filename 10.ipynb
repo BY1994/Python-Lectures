{
 "cells": [
  {
   "cell_type": "markdown",
   "metadata": {},
   "source": [
    "# A few notes on matplotlib"
   ]
  },
  {
   "cell_type": "markdown",
   "metadata": {},
   "source": [
    "Matplotlib is a library whose logic and functionality is closely modeled after Matlab. Hence, if you know your way around plotting in Matlab, getting things to work in python should be easy.\n",
    "\n",
    "Extensive documentation is available at:\n",
    "\n",
    "http://matplotlib.org\n",
    "\n",
    "Let's put everything in one script to see how things work (example compiled from several of Valentin Haenel's tutorials):"
   ]
  },
  {
   "cell_type": "code",
   "execution_count": 53,
   "metadata": {
    "collapsed": true
   },
   "outputs": [],
   "source": [
    "import numpy as np\n",
    "import matplotlib.pyplot as plt"
   ]
  },
  {
   "cell_type": "code",
   "execution_count": null,
   "metadata": {
    "collapsed": false
   },
   "outputs": [],
   "source": [
    "# Create a figure of size 8x6 inches, 80 dots per inch\n",
    "plt.figure(figsize=(8, 6), dpi=80)\n",
    "\n",
    "# Create a new subplot from a grid of 1x1\n",
    "plt.subplot(1, 1, 1)\n",
    "\n",
    "X = np.linspace(-np.pi, np.pi, 256, endpoint=True)\n",
    "C, S = np.cos(X), np.sin(X)\n",
    "\n",
    "# Plot cosine with a blue continuous line of width 1 (pixels)\n",
    "plt.plot(X, C, color=\"blue\", linewidth=1.0, linestyle=\"-\",label=\"cos\")\n",
    "\n",
    "# Plot sine with a green dashed line of width 2 (pixels)\n",
    "plt.plot(X, S, color=\"green\", linewidth=2.0, linestyle=\"--\",label=\"sin\")\n",
    "\n",
    "# Set x limits\n",
    "plt.xlim(-4.0, 4.0)\n",
    "\n",
    "# Set x ticks\n",
    "plt.xticks(np.linspace(-4, 4, 9, endpoint=True))\n",
    "\n",
    "# Set y limits\n",
    "plt.ylim(-1.02, 1.02)\n",
    "\n",
    "# set x-ticks and y-ticks to more interesting values for sin/cos\n",
    "plt.xticks([-np.pi, -np.pi/2, 0, np.pi/2, np.pi],\n",
    "          [r'$-\\pi$', r'$-\\pi/2$', r'$0$', r'$+\\pi/2$', r'$+\\pi$'])\n",
    "\n",
    "plt.yticks([-1, 0, +1],\n",
    "          [r'$-1$', r'$0$', r'$+1$'])\n",
    "\n",
    "\n",
    "# annotate a point\n",
    "t = 2 * np.pi / 3\n",
    "plt.scatter([t, ], [np.cos(t), ], 50, color='blue')\n",
    "plt.annotate(r'$cos(\\frac{2\\pi}{3})=-\\frac{1}{2}$',\n",
    "             xy=(t, np.cos(t)), xycoords='data',\n",
    "             xytext=(-90, -50), textcoords='offset points', fontsize=16,\n",
    "             arrowprops=dict(arrowstyle=\"->\", connectionstyle=\"arc3,rad=.2\"))\n",
    "\n",
    "\n",
    "# instead of having the axes surround the figure, we now shift them to the\n",
    "# middle by changing the \"spines\" property of the axes\n",
    "# note, that for this, we simply throw away the top and right lines and\n",
    "# move the bottom and left lines to \"0\"\n",
    "ax = plt.gca()  # gca stands for 'get current axis'\n",
    "ax.spines['right'].set_color('none')\n",
    "ax.spines['top'].set_color('none')\n",
    "ax.xaxis.set_ticks_position('bottom')\n",
    "ax.spines['bottom'].set_position(('data',0))\n",
    "ax.yaxis.set_ticks_position('left')\n",
    "ax.spines['left'].set_position(('data',0))\n",
    "\n",
    "\n",
    "# add the legend using the labels defined in the plt functions\n",
    "plt.legend(loc='upper left')\n",
    "\n",
    "# set title and fontsize\n",
    "plt.title(\"Sines and cosines\",fontsize=16)\n",
    "\n",
    "# We could now save the figure using 72 dots per inch\n",
    "plt.savefig(\"sinewaves.png\", dpi=72)\n",
    "\n",
    "# Show result on screen\n",
    "plt.show()\n"
   ]
  },
  {
   "cell_type": "markdown",
   "metadata": {},
   "source": [
    "Here's a little 3D plot combining a surface plot and a contour plot in one set of 3D axes. Note, that we import the nice-looking background axes from a different package.\n",
    "\n",
    "In addition, we open a separate figure here in this file. This makes no difference in ipython, but it would open another window, when executed as a script!"
   ]
  },
  {
   "cell_type": "code",
   "execution_count": null,
   "metadata": {
    "collapsed": false
   },
   "outputs": [],
   "source": [
    "from mpl_toolkits.mplot3d import Axes3D\n",
    "\n",
    "fig = plt.figure()\n",
    "ax = Axes3D(fig)\n",
    "X = np.arange(-4, 4, 0.25)\n",
    "Y = np.arange(-4, 4, 0.25)\n",
    "X, Y = np.meshgrid(X, Y)\n",
    "R = np.sqrt(X ** 2 + Y ** 2)\n",
    "Z = np.sin(R)\n",
    "\n",
    "ax.plot_surface(X, Y, Z, rstride=1, cstride=1, cmap=plt.cm.hot)\n",
    "ax.contourf(X, Y, Z, zdir='z', offset=-2, cmap=plt.cm.hot)\n",
    "ax.set_zlim(-2, 2)\n",
    "\n",
    "plt.show()"
   ]
  },
  {
   "cell_type": "markdown",
   "metadata": {},
   "source": [
    "Here is a quick example for how to read, display, and write images."
   ]
  },
  {
   "cell_type": "code",
   "execution_count": 76,
   "metadata": {
    "collapsed": false
   },
   "outputs": [
    {
     "data": {
      "image/png": "[encoded data removed]",
      "text/plain": [
       "<matplotlib.figure.Figure at 0x10c295110>"
      ]
     },
     "metadata": {},
     "output_type": "display_data"
    }
   ],
   "source": [
    "# load an image from the filesystem\n",
    "img = plt.imread('images/route66.png')\n",
    "\n",
    "# show its size and type\n",
    "# note that the result of this is a float numpy array!\n",
    "img.shape, img.dtype\n",
    "\n",
    "# display it\n",
    "plt.imshow(img)\n",
    "plt.show()\n",
    "\n",
    "# let's save the picture using the imsave function\n",
    "plt.imsave('red_route66.png', 256-img[:,:,0],cmap=plt.cm.gray)"
   ]
  },
  {
   "cell_type": "markdown",
   "metadata": {},
   "source": [
    "Here are further examples (including code) for creating different types of figures:\n",
    "\n",
    "http://www.scipy-lectures.org/intro/matplotlib/auto_examples/index.html#code-generating-the-summary-figures-with-a-title"
   ]
  },
  {
   "cell_type": "code",
   "execution_count": null,
   "metadata": {
    "collapsed": true
   },
   "outputs": [],
   "source": []
  }
 ],
 "metadata": {
  "kernelspec": {
   "display_name": "Python 2",
   "language": "python",
   "name": "python2"
  },
  "language_info": {
   "codemirror_mode": {
    "name": "ipython",
    "version": 2
   },
   "file_extension": ".py",
   "mimetype": "text/x-python",
   "name": "python",
   "nbconvert_exporter": "python",
   "pygments_lexer": "ipython2",
   "version": "2.7.11"
  }
 },
 "nbformat": 4,
 "nbformat_minor": 0
}
